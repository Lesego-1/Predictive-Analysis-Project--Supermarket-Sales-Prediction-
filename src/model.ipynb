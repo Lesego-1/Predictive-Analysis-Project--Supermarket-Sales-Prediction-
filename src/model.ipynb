{
 "cells": [
  {
   "cell_type": "code",
   "execution_count": 3,
   "metadata": {},
   "outputs": [],
   "source": [
    "from sklearn.linear_model import LinearRegression, Ridge, Lasso\n",
    "from sklearn.model_selection import GridSearchCV"
   ]
  },
  {
   "cell_type": "code",
   "execution_count": 6,
   "metadata": {},
   "outputs": [],
   "source": [
    "# Linear Regression (Base Comparison)\n",
    "def linear_regression_model(X_train, X_test, y_train, y_test):\n",
    "    \"\"\"\n",
    "    Builds a linear regression model to predict gross income.\n",
    "    Returns the model, and predicted y values.\n",
    "    \"\"\"\n",
    "    # Initialize model\n",
    "    model = LinearRegression()\n",
    "    # Fit X and y data into model\n",
    "    model.fit(X_train, y_train)\n",
    "    \n",
    "    # Predict y values\n",
    "    y_train_pred = model.predict(X_train)\n",
    "    y_test_pred = model.predict(X_test)\n",
    "    \n",
    "    return model, y_train_pred, y_test_pred"
   ]
  },
  {
   "cell_type": "code",
   "execution_count": 5,
   "metadata": {},
   "outputs": [],
   "source": [
    "def ridge_regression_model(X_train, X_test, y_train):\n",
    "    \"\"\"\n",
    "    Creates a ridge regression model.\n",
    "    GridSearchCV is used to find the best alpha value for the model.\n",
    "    Returns the model with the best alpha value and the predicted values\n",
    "    \"\"\"\n",
    "    # Initialize model\n",
    "    model = Ridge(alpha=1.0)\n",
    "    \n",
    "    # Create param grid\n",
    "    param_grid = {\n",
    "        'alpha' : [0.1, 0.5, 1.0, 1.5, 10, 100]\n",
    "    }\n",
    "    \n",
    "    # Initialize model with best alpha value\n",
    "    best_model = GridSearchCV(model, param_grid=param_grid, cv=5, n_jobs=-1)\n",
    "    \n",
    "    # Fit data into model\n",
    "    best_model.fit(X_train, y_train)\n",
    "    \n",
    "    # Predict y values\n",
    "    y_train_pred = best_model.predict(X_train)\n",
    "    y_test_pred = best_model.predict(X_test)\n",
    "    \n",
    "    return best_model, y_train_pred, y_test_pred\n",
    "\n",
    "def lasso_regression_model(X_train, X_test, y_train):\n",
    "    \"\"\"\n",
    "    Creates a lasso regression model.\n",
    "    GridSearchCV is used to find the best alpha value for the model.\n",
    "    Returns the lasso regression model and the predicted values.\n",
    "    \"\"\"\n",
    "    # Initialize model\n",
    "    model = Lasso(alpha=1.0)\n",
    "    \n",
    "    # Create param grid\n",
    "    param_grid = {\n",
    "        'alpha' : [0.1, 0.5, 1.0, 1.5, 10, 100]\n",
    "    }\n",
    "    \n",
    "    # Initialize model with best alpha value\n",
    "    best_model = GridSearchCV(model, param_grid=param_grid, cv=5, n_jobs=-1)\n",
    "    \n",
    "    # Fit data into model\n",
    "    best_model.fit(X_train, y_train)\n",
    "    \n",
    "    # Predict y values\n",
    "    y_train_pred = best_model.predict(X_train)\n",
    "    y_test_pred = best_model.predict(X_test)\n",
    "    \n",
    "    return best_model, y_train_pred, y_test_pred"
   ]
  },
  {
   "cell_type": "code",
   "execution_count": null,
   "metadata": {},
   "outputs": [],
   "source": [
    "# Random Forests Regressor"
   ]
  },
  {
   "cell_type": "code",
   "execution_count": null,
   "metadata": {},
   "outputs": [],
   "source": [
    "# Support Vector Regressor"
   ]
  },
  {
   "cell_type": "code",
   "execution_count": null,
   "metadata": {},
   "outputs": [],
   "source": [
    "# Neural Networks"
   ]
  }
 ],
 "metadata": {
  "kernelspec": {
   "display_name": "Python 3",
   "language": "python",
   "name": "python3"
  },
  "language_info": {
   "codemirror_mode": {
    "name": "ipython",
    "version": 3
   },
   "file_extension": ".py",
   "mimetype": "text/x-python",
   "name": "python",
   "nbconvert_exporter": "python",
   "pygments_lexer": "ipython3",
   "version": "3.12.2"
  }
 },
 "nbformat": 4,
 "nbformat_minor": 2
}
